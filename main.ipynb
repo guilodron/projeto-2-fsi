{
 "cells": [
  {
   "cell_type": "code",
   "execution_count": 2,
   "metadata": {},
   "outputs": [],
   "source": [
    "# Importando bibliotecas utilizadas no projeto\n",
    "import numpy as np\n",
    "import tensorflow as tf\n",
    "from tensorflow import keras\n",
    "import matplotlib.pyplot as plt"
   ]
  },
  {
   "cell_type": "code",
   "execution_count": 3,
   "metadata": {},
   "outputs": [
    {
     "name": "stdout",
     "output_type": "stream",
     "text": [
      "Found 4263 files belonging to 8 classes.\n",
      "Using 3411 files for training.\n"
     ]
    }
   ],
   "source": [
    "dataset = 'Tomato pest image enhancement'\n",
    "height, width = 299, 299\n",
    "batch_size = 32\n",
    "SEED = 123\n",
    "training = keras.utils.image_dataset_from_directory(\n",
    "    dataset,\n",
    "    labels='inferred',\n",
    "    validation_split=.2,\n",
    "    image_size=(height, width),\n",
    "    class_names = None,\n",
    "    subset='training',\n",
    "    seed=SEED,\n",
    "    label_mode='categorical'\n",
    ")"
   ]
  },
  {
   "cell_type": "code",
   "execution_count": 4,
   "metadata": {},
   "outputs": [
    {
     "name": "stdout",
     "output_type": "stream",
     "text": [
      "Found 4263 files belonging to 8 classes.\n",
      "Using 852 files for validation.\n"
     ]
    }
   ],
   "source": [
    "validation = keras.utils.image_dataset_from_directory(\n",
    "    dataset,\n",
    "    labels='inferred',\n",
    "    validation_split=.2,\n",
    "    image_size=(height, width),\n",
    "    class_names = None,\n",
    "    subset='validation',\n",
    "    seed=SEED,\n",
    "    label_mode='categorical'\n",
    ")"
   ]
  },
  {
   "cell_type": "code",
   "execution_count": 5,
   "metadata": {},
   "outputs": [],
   "source": [
    "class_names = training.class_names"
   ]
  },
  {
   "cell_type": "code",
   "execution_count": 6,
   "metadata": {},
   "outputs": [],
   "source": [
    "base_model = keras.applications.ResNet50(\n",
    "    include_top=False,\n",
    "    input_shape = (height, width, 3),\n",
    "    pooling='avg',\n",
    "    classes=8,\n",
    "    weights='imagenet'\n",
    ")\n",
    "for layer in base_model.layers:\n",
    "    layer.trainable = False"
   ]
  },
  {
   "cell_type": "code",
   "execution_count": 7,
   "metadata": {},
   "outputs": [
    {
     "name": "stdout",
     "output_type": "stream",
     "text": [
      "Model: \"sequential\"\n",
      "_________________________________________________________________\n",
      " Layer (type)                Output Shape              Param #   \n",
      "=================================================================\n",
      " resnet50 (Functional)       (None, 2048)              23587712  \n",
      "                                                                 \n",
      " flatten (Flatten)           (None, 2048)              0         \n",
      "                                                                 \n",
      " dense (Dense)               (None, 512)               1049088   \n",
      "                                                                 \n",
      " dense_1 (Dense)             (None, 8)                 4104      \n",
      "                                                                 \n",
      "=================================================================\n",
      "Total params: 24,640,904\n",
      "Trainable params: 1,053,192\n",
      "Non-trainable params: 23,587,712\n",
      "_________________________________________________________________\n"
     ]
    }
   ],
   "source": [
    "model = keras.Sequential([\n",
    "    base_model,\n",
    "    keras.layers.Flatten(),\n",
    "    keras.layers.Dense(512, activation='relu'),\n",
    "    keras.layers.Dense(8, activation='sigmoid')\n",
    "])\n",
    "model.summary()"
   ]
  },
  {
   "cell_type": "code",
   "execution_count": 8,
   "metadata": {},
   "outputs": [],
   "source": [
    "model.compile(\n",
    "    optimizer=keras.optimizers.Adam(learning_rate=0.001),\n",
    "    loss='categorical_crossentropy',\n",
    "    metrics=['accuracy']\n",
    ")"
   ]
  },
  {
   "cell_type": "code",
   "execution_count": 9,
   "metadata": {},
   "outputs": [
    {
     "name": "stdout",
     "output_type": "stream",
     "text": [
      "Epoch 1/5\n",
      "107/107 [==============================] - 30s 225ms/step - loss: 0.7051 - accuracy: 0.7608 - val_loss: 0.3313 - val_accuracy: 0.8991\n",
      "Epoch 2/5\n",
      "107/107 [==============================] - 21s 199ms/step - loss: 0.1741 - accuracy: 0.9502 - val_loss: 0.2359 - val_accuracy: 0.9167\n",
      "Epoch 3/5\n",
      "107/107 [==============================] - 22s 203ms/step - loss: 0.0838 - accuracy: 0.9780 - val_loss: 0.1597 - val_accuracy: 0.9519\n",
      "Epoch 4/5\n",
      "107/107 [==============================] - 22s 204ms/step - loss: 0.0393 - accuracy: 0.9924 - val_loss: 0.1194 - val_accuracy: 0.9648\n",
      "Epoch 5/5\n",
      "107/107 [==============================] - 22s 204ms/step - loss: 0.0230 - accuracy: 0.9956 - val_loss: 0.1083 - val_accuracy: 0.9648\n"
     ]
    }
   ],
   "source": [
    "history = model.fit(training, validation_data=validation, epochs=5)"
   ]
  },
  {
   "cell_type": "code",
   "execution_count": 10,
   "metadata": {},
   "outputs": [
    {
     "data": {
      "image/png": "[encoded data removed]",
      "text/plain": [
       "<Figure size 432x288 with 1 Axes>"
      ]
     },
     "metadata": {
      "needs_background": "light"
     },
     "output_type": "display_data"
    }
   ],
   "source": [
    "fig1 = plt.gcf()\n",
    "plt.plot(history.history['accuracy'])\n",
    "plt.plot(history.history['val_accuracy'])\n",
    "plt.axis(ymin=0.4,ymax=1) \n",
    "plt.grid()\n",
    "plt.title('Model Accuracy')\n",
    "plt.ylabel('Accuracy')\n",
    "plt.xlabel('Epochs')\n",
    "plt.legend(['train', 'validation'])\n",
    "plt.show()"
   ]
  },
  {
   "cell_type": "code",
   "execution_count": 11,
   "metadata": {},
   "outputs": [
    {
     "data": {
      "text/plain": [
       "['BA', 'HA', 'MP', 'SE', 'SL', 'TP', 'TU', 'ZC']"
      ]
     },
     "execution_count": 11,
     "metadata": {},
     "output_type": "execute_result"
    }
   ],
   "source": [
    "validation.class_names"
   ]
  },
  {
   "cell_type": "code",
   "execution_count": 40,
   "metadata": {},
   "outputs": [
    {
     "data": {
      "text/plain": [
       "(1, 299, 299, 3)"
      ]
     },
     "execution_count": 40,
     "metadata": {},
     "output_type": "execute_result"
    }
   ],
   "source": [
    "import cv2\n",
    "image=cv2.imread(f'{dataset}/BA/BA (1).jpg')\n",
    "image=np.expand_dims(image,axis=0)  "
   ]
  },
  {
   "cell_type": "code",
   "execution_count": 39,
   "metadata": {},
   "outputs": [
    {
     "data": {
      "text/plain": [
       "'BA'"
      ]
     },
     "execution_count": 39,
     "metadata": {},
     "output_type": "execute_result"
    }
   ],
   "source": [
    "prediction = model.predict(image)\n",
    "validation.class_names[np.argmax(prediction)]"
   ]
  },
  {
   "cell_type": "code",
   "execution_count": 48,
   "metadata": {},
   "outputs": [
    {
     "data": {
      "text/plain": [
       "(299, 299, 3)"
      ]
     },
     "execution_count": 48,
     "metadata": {},
     "output_type": "execute_result"
    }
   ],
   "source": [
    "img = keras.preprocessing.image.load_img(f'{dataset}/BA/BA (1).jpg', target_size=(height, width,3))\n",
    "keras.preprocessing.image.img_to_array(img).shape"
   ]
  },
  {
   "cell_type": "code",
   "execution_count": 96,
   "metadata": {},
   "outputs": [
    {
     "name": "stdout",
     "output_type": "stream",
     "text": [
      "55\n"
     ]
    }
   ],
   "source": [
    "files = validation.file_paths\n",
    "ba = [file for file in files if 'ZC' in file]\n",
    "correct = 0\n",
    "for path in ba:\n",
    "    image=cv2.imread(path)\n",
    "    image=np.expand_dims(image,axis=0)\n",
    "    prediction = model.predict(image)\n",
    "    if class_names[np.argmax(prediction)] == 'ZC':\n",
    "        correct += 1\n",
    "print(correct)"
   ]
  },
  {
   "cell_type": "code",
   "execution_count": 97,
   "metadata": {},
   "outputs": [
    {
     "data": {
      "text/plain": [
       "58"
      ]
     },
     "execution_count": 97,
     "metadata": {},
     "output_type": "execute_result"
    }
   ],
   "source": [
    "len(ba)"
   ]
  },
  {
   "cell_type": "code",
   "execution_count": null,
   "metadata": {},
   "outputs": [],
   "source": []
  }
 ],
 "metadata": {
  "interpreter": {
   "hash": "1eece517c60277595a82c94af4a20e4cf42b8015e0d414d338400559bb6ab6a4"
  },
  "kernelspec": {
   "display_name": "Python 3.10.0 ('tf')",
   "language": "python",
   "name": "python3"
  },
  "language_info": {
   "codemirror_mode": {
    "name": "ipython",
    "version": 3
   },
   "file_extension": ".py",
   "mimetype": "text/x-python",
   "name": "python",
   "nbconvert_exporter": "python",
   "pygments_lexer": "ipython3",
   "version": "3.10.0"
  },
  "orig_nbformat": 4
 },
 "nbformat": 4,
 "nbformat_minor": 2
}
