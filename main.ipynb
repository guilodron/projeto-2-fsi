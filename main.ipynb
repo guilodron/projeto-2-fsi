{
 "cells": [
  {
   "cell_type": "code",
   "execution_count": 2,
   "metadata": {},
   "outputs": [],
   "source": [
    "# Importando bibliotecas utilizadas no projeto\n",
    "import numpy as np\n",
    "import tensorflow as tf\n",
    "from tensorflow import keras\n",
    "import matplotlib.pyplot as plt"
   ]
  },
  {
   "cell_type": "code",
   "execution_count": 3,
   "metadata": {},
   "outputs": [
    {
     "name": "stdout",
     "output_type": "stream",
     "text": [
      "Found 4263 files belonging to 8 classes.\n",
      "Using 3411 files for training.\n"
     ]
    }
   ],
   "source": [
    "dataset = 'Tomato pest image enhancement'\n",
    "height, width = 299, 299\n",
    "batch_size = 32\n",
    "SEED = 123\n",
    "training = keras.utils.image_dataset_from_directory(\n",
    "    dataset,\n",
    "    labels='inferred',\n",
    "    validation_split=.2,\n",
    "    image_size=(height, width),\n",
    "    class_names = None,\n",
    "    subset='training',\n",
    "    seed=SEED,\n",
    "    label_mode='categorical'\n",
    ")"
   ]
  },
  {
   "cell_type": "code",
   "execution_count": 4,
   "metadata": {},
   "outputs": [
    {
     "name": "stdout",
     "output_type": "stream",
     "text": [
      "Found 4263 files belonging to 8 classes.\n",
      "Using 852 files for validation.\n"
     ]
    }
   ],
   "source": [
    "validation = keras.utils.image_dataset_from_directory(\n",
    "    dataset,\n",
    "    labels='inferred',\n",
    "    validation_split=.2,\n",
    "    image_size=(height, width),\n",
    "    class_names = None,\n",
    "    subset='validation',\n",
    "    seed=SEED,\n",
    "    label_mode='categorical'\n",
    ")"
   ]
  },
  {
   "cell_type": "code",
   "execution_count": 5,
   "metadata": {},
   "outputs": [],
   "source": [
    "class_names = training.class_names"
   ]
  },
  {
   "cell_type": "code",
   "execution_count": 6,
   "metadata": {},
   "outputs": [],
   "source": [
    "base_model = keras.applications.ResNet50(\n",
    "    include_top=False,\n",
    "    input_shape = (height, width, 3),\n",
    "    pooling='avg',\n",
    "    classes=8,\n",
    "    weights='imagenet'\n",
    ")\n",
    "for layer in base_model.layers:\n",
    "    layer.trainable = False"
   ]
  },
  {
   "cell_type": "code",
   "execution_count": 7,
   "metadata": {},
   "outputs": [
    {
     "name": "stdout",
     "output_type": "stream",
     "text": [
      "Model: \"sequential\"\n",
      "_________________________________________________________________\n",
      " Layer (type)                Output Shape              Param #   \n",
      "=================================================================\n",
      " resnet50 (Functional)       (None, 2048)              23587712  \n",
      "                                                                 \n",
      " flatten (Flatten)           (None, 2048)              0         \n",
      "                                                                 \n",
      " dense (Dense)               (None, 512)               1049088   \n",
      "                                                                 \n",
      " dense_1 (Dense)             (None, 8)                 4104      \n",
      "                                                                 \n",
      "=================================================================\n",
      "Total params: 24,640,904\n",
      "Trainable params: 1,053,192\n",
      "Non-trainable params: 23,587,712\n",
      "_________________________________________________________________\n"
     ]
    }
   ],
   "source": [
    "model = keras.Sequential([\n",
    "    base_model,\n",
    "    keras.layers.Flatten(),\n",
    "    keras.layers.Dense(512, activation='relu'),\n",
    "    keras.layers.Dense(8, activation='sigmoid')\n",
    "])\n",
    "model.summary()"
   ]
  },
  {
   "cell_type": "code",
   "execution_count": 8,
   "metadata": {},
   "outputs": [],
   "source": [
    "model.compile(\n",
    "    optimizer=keras.optimizers.Adam(learning_rate=0.001),\n",
    "    loss='categorical_crossentropy',\n",
    "    metrics=['accuracy']\n",
    ")"
   ]
  },
  {
   "cell_type": "code",
   "execution_count": 9,
   "metadata": {},
   "outputs": [
    {
     "name": "stdout",
     "output_type": "stream",
     "text": [
      "Epoch 1/10\n",
      "107/107 [==============================] - 33s 235ms/step - loss: 0.6949 - accuracy: 0.7649 - val_loss: 0.3100 - val_accuracy: 0.8885\n",
      "Epoch 2/10\n",
      "107/107 [==============================] - 23s 217ms/step - loss: 0.1669 - accuracy: 0.9507 - val_loss: 0.2547 - val_accuracy: 0.9026\n",
      "Epoch 3/10\n",
      "107/107 [==============================] - 24s 219ms/step - loss: 0.0808 - accuracy: 0.9798 - val_loss: 0.1439 - val_accuracy: 0.9589\n",
      "Epoch 4/10\n",
      "107/107 [==============================] - 24s 221ms/step - loss: 0.0393 - accuracy: 0.9921 - val_loss: 0.1260 - val_accuracy: 0.9683\n",
      "Epoch 5/10\n",
      "107/107 [==============================] - 24s 224ms/step - loss: 0.0224 - accuracy: 0.9959 - val_loss: 0.1099 - val_accuracy: 0.9624\n",
      "Epoch 6/10\n",
      "107/107 [==============================] - 23s 217ms/step - loss: 0.0111 - accuracy: 0.9982 - val_loss: 0.1030 - val_accuracy: 0.9730\n",
      "Epoch 7/10\n",
      "107/107 [==============================] - 22s 204ms/step - loss: 0.0097 - accuracy: 0.9977 - val_loss: 0.0941 - val_accuracy: 0.9730\n",
      "Epoch 8/10\n",
      "107/107 [==============================] - 22s 207ms/step - loss: 0.0050 - accuracy: 0.9997 - val_loss: 0.0907 - val_accuracy: 0.9742\n",
      "Epoch 9/10\n",
      "107/107 [==============================] - 22s 207ms/step - loss: 0.0094 - accuracy: 0.9982 - val_loss: 0.1816 - val_accuracy: 0.9425\n",
      "Epoch 10/10\n",
      "107/107 [==============================] - 22s 206ms/step - loss: 0.0477 - accuracy: 0.9833 - val_loss: 0.1796 - val_accuracy: 0.9495\n"
     ]
    }
   ],
   "source": [
    "history = model.fit(training, validation_data=validation, epochs=10)"
   ]
  },
  {
   "cell_type": "code",
   "execution_count": 10,
   "metadata": {},
   "outputs": [
    {
     "data": {
      "image/png": "[encoded data removed]",
      "text/plain": [
       "<Figure size 432x288 with 1 Axes>"
      ]
     },
     "metadata": {
      "needs_background": "light"
     },
     "output_type": "display_data"
    }
   ],
   "source": [
    "fig1 = plt.gcf()\n",
    "plt.plot(history.history['accuracy'])\n",
    "plt.plot(history.history['val_accuracy'])\n",
    "plt.axis(ymin=0.4,ymax=1) \n",
    "plt.grid()\n",
    "plt.title('Model Accuracy')\n",
    "plt.ylabel('Accuracy')\n",
    "plt.xlabel('Epochs')\n",
    "plt.legend(['train', 'validation'])\n",
    "plt.show()"
   ]
  },
  {
   "cell_type": "code",
   "execution_count": 14,
   "metadata": {},
   "outputs": [
    {
     "data": {
      "text/plain": [
       "['BA', 'HA', 'MP', 'SE', 'SL', 'TP', 'TU', 'ZC']"
      ]
     },
     "execution_count": 14,
     "metadata": {},
     "output_type": "execute_result"
    }
   ],
   "source": [
    "classes = validation.class_names\n",
    "classes"
   ]
  },
  {
   "cell_type": "code",
   "execution_count": 12,
   "metadata": {},
   "outputs": [],
   "source": [
    "import cv2\n",
    "image=cv2.imread(f'{dataset}/BA/BA (1).jpg')\n",
    "image=np.expand_dims(image,axis=0)  "
   ]
  },
  {
   "cell_type": "code",
   "execution_count": 13,
   "metadata": {},
   "outputs": [
    {
     "data": {
      "text/plain": [
       "'BA'"
      ]
     },
     "execution_count": 13,
     "metadata": {},
     "output_type": "execute_result"
    }
   ],
   "source": [
    "prediction = model.predict(image)\n",
    "validation.class_names[np.argmax(prediction)]"
   ]
  },
  {
   "cell_type": "code",
   "execution_count": 48,
   "metadata": {},
   "outputs": [
    {
     "data": {
      "text/plain": [
       "(299, 299, 3)"
      ]
     },
     "execution_count": 48,
     "metadata": {},
     "output_type": "execute_result"
    }
   ],
   "source": [
    "img = keras.preprocessing.image.load_img(f'{dataset}/BA/BA (1).jpg', target_size=(height, width,3))\n",
    "keras.preprocessing.image.img_to_array(img).shape"
   ]
  },
  {
   "cell_type": "code",
   "execution_count": 20,
   "metadata": {},
   "outputs": [
    {
     "data": {
      "text/plain": [
       "dict_keys(['BA', 'HA', 'MP', 'SE', 'SL', 'TP', 'TU', 'ZC'])"
      ]
     },
     "execution_count": 20,
     "metadata": {},
     "output_type": "execute_result"
    }
   ],
   "source": [
    "# Extraindo arquivos utilizados para validação em cada classe\n",
    "files = validation.file_paths\n",
    "files_per_class = {}\n",
    "for classe in classes:\n",
    "    files_per_class[classe] = [file for file in files if classe in file]\n",
    "files_per_class.keys()"
   ]
  },
  {
   "cell_type": "code",
   "execution_count": 51,
   "metadata": {},
   "outputs": [
    {
     "name": "stdout",
     "output_type": "stream",
     "text": [
      "<class 'str'>\n",
      "<class 'str'>\n",
      "<class 'str'>\n",
      "<class 'str'>\n",
      "<class 'str'>\n",
      "<class 'str'>\n",
      "<class 'str'>\n",
      "<class 'str'>\n",
      "<class 'str'>\n",
      "<class 'str'>\n",
      "<class 'str'>\n",
      "<class 'str'>\n",
      "<class 'str'>\n",
      "<class 'str'>\n",
      "<class 'str'>\n",
      "<class 'str'>\n",
      "<class 'str'>\n",
      "<class 'str'>\n",
      "<class 'str'>\n",
      "<class 'str'>\n",
      "<class 'str'>\n",
      "<class 'str'>\n",
      "<class 'str'>\n",
      "<class 'str'>\n",
      "<class 'str'>\n",
      "<class 'str'>\n",
      "<class 'str'>\n",
      "<class 'str'>\n",
      "<class 'str'>\n",
      "<class 'str'>\n",
      "<class 'str'>\n",
      "<class 'str'>\n",
      "<class 'str'>\n",
      "<class 'str'>\n",
      "<class 'str'>\n",
      "<class 'str'>\n",
      "<class 'str'>\n",
      "<class 'str'>\n",
      "<class 'str'>\n",
      "<class 'str'>\n",
      "<class 'str'>\n",
      "<class 'str'>\n",
      "<class 'str'>\n",
      "<class 'str'>\n",
      "<class 'str'>\n",
      "<class 'str'>\n",
      "<class 'str'>\n",
      "<class 'str'>\n",
      "<class 'str'>\n",
      "<class 'str'>\n",
      "<class 'str'>\n",
      "<class 'str'>\n",
      "<class 'str'>\n",
      "<class 'str'>\n",
      "<class 'str'>\n",
      "<class 'str'>\n",
      "<class 'str'>\n",
      "<class 'str'>\n",
      "<class 'str'>\n",
      "<class 'str'>\n",
      "<class 'str'>\n",
      "<class 'str'>\n",
      "<class 'str'>\n",
      "<class 'str'>\n",
      "<class 'str'>\n",
      "<class 'str'>\n",
      "<class 'str'>\n",
      "<class 'str'>\n",
      "<class 'str'>\n",
      "<class 'str'>\n",
      "<class 'str'>\n",
      "<class 'str'>\n",
      "<class 'str'>\n",
      "<class 'str'>\n",
      "<class 'str'>\n",
      "<class 'str'>\n",
      "<class 'str'>\n"
     ]
    }
   ],
   "source": [
    "for path in files_per_class['BA']:    \n",
    "    image = cv2.imread(path)\n",
    "    image = np.expand_dims(image, axis=0)\n",
    "    print(type(path))"
   ]
  },
  {
   "cell_type": "code",
   "execution_count": 54,
   "metadata": {},
   "outputs": [
    {
     "name": "stdout",
     "output_type": "stream",
     "text": [
      "[array([[9.9999988e-01, 2.8278230e-04, 7.3237978e-02, 9.7193199e-01,\n",
      "        2.8454887e-03, 3.8589519e-02, 9.6246332e-01, 3.0137019e-04]],\n",
      "      dtype=float32), array([[1.0000000e+00, 3.1751547e-02, 2.7584076e-01, 9.7523168e-02,\n",
      "        1.1843602e-02, 4.3784127e-02, 3.1528804e-03, 9.0666115e-05]],\n",
      "      dtype=float32), array([[9.9998868e-01, 3.7739184e-02, 8.4724307e-01, 5.7367009e-01,\n",
      "        4.4117452e-04, 4.8599184e-01, 5.4480726e-01, 5.3632832e-03]],\n",
      "      dtype=float32), array([[9.9999738e-01, 7.3362239e-02, 2.8290060e-01, 9.2656738e-01,\n",
      "        4.4852979e-02, 5.7873138e-05, 1.4180236e-01, 3.2068521e-02]],\n",
      "      dtype=float32), array([[9.9999964e-01, 2.7212715e-02, 8.8253361e-01, 8.2941115e-01,\n",
      "        3.9508673e-03, 6.9907948e-02, 8.7725990e-02, 1.2773956e-04]],\n",
      "      dtype=float32), array([[1.0000000e+00, 2.4058553e-04, 9.9899369e-01, 1.0719725e-01,\n",
      "        2.5326441e-05, 1.0415365e-01, 2.8249082e-01, 4.5327266e-05]],\n",
      "      dtype=float32), array([[9.99997735e-01, 3.88557702e-01, 3.21250468e-01, 9.89498019e-01,\n",
      "        1.04172975e-01, 4.36957271e-05, 1.79395098e-02, 1.91841205e-03]],\n",
      "      dtype=float32), array([[9.9999988e-01, 3.0804448e-02, 9.8898971e-01, 2.3855383e-03,\n",
      "        5.9615774e-04, 7.7296650e-01, 3.6260787e-01, 3.9079587e-04]],\n",
      "      dtype=float32), array([[0.99996233, 0.0011841 , 0.94566834, 0.9758874 , 0.0073865 ,\n",
      "        0.00486152, 0.22506374, 0.00928556]], dtype=float32), array([[9.9999762e-01, 5.1360255e-01, 4.0513262e-01, 2.6172161e-01,\n",
      "        9.8714352e-02, 2.6084241e-04, 1.6141073e-01, 5.6385720e-04]],\n",
      "      dtype=float32), array([[9.9999321e-01, 6.8521982e-01, 7.0577317e-01, 7.2817981e-01,\n",
      "        3.8072550e-01, 3.7414355e-03, 1.7339474e-02, 2.3116745e-04]],\n",
      "      dtype=float32), array([[9.9999893e-01, 2.2735341e-01, 8.1000596e-01, 5.3841667e-03,\n",
      "        1.6229520e-02, 9.0181398e-01, 9.6923709e-03, 2.5644762e-04]],\n",
      "      dtype=float32), array([[9.9999988e-01, 4.8157703e-03, 6.4900821e-01, 3.6267242e-01,\n",
      "        7.3747754e-01, 7.0563884e-04, 5.7250887e-02, 9.1847069e-05]],\n",
      "      dtype=float32), array([[9.9999523e-01, 3.5941102e-05, 9.9882168e-01, 8.3603531e-01,\n",
      "        2.2604966e-03, 6.2131374e-03, 7.9913485e-01, 5.7454854e-03]],\n",
      "      dtype=float32), array([[0.9999769 , 0.00139201, 0.77699316, 0.50769883, 0.00752851,\n",
      "        0.29060158, 0.80736935, 0.00171647]], dtype=float32), array([[1.0000000e+00, 1.2314930e-02, 4.8331368e-01, 8.0468781e-02,\n",
      "        1.6522566e-02, 3.3914816e-02, 1.6422918e-03, 2.1412750e-04]],\n",
      "      dtype=float32), array([[0.9999435 , 0.16441825, 0.37460005, 0.64223856, 0.18477239,\n",
      "        0.09285881, 0.14888877, 0.02860844]], dtype=float32), array([[0.99993515, 0.01257768, 0.9823531 , 0.90024406, 0.00185884,\n",
      "        0.46946725, 0.02061855, 0.02232714]], dtype=float32), array([[1.0000000e+00, 3.9539206e-01, 8.5140240e-01, 3.3402913e-03,\n",
      "        2.3100874e-03, 7.3767930e-01, 1.1832663e-02, 7.3112751e-05]],\n",
      "      dtype=float32), array([[1.0000000e+00, 4.0213108e-02, 8.2306486e-01, 6.9725424e-01,\n",
      "        5.0209067e-03, 3.4911218e-01, 1.5929267e-03, 3.7147292e-05]],\n",
      "      dtype=float32), array([[9.9999774e-01, 2.7259972e-04, 9.7479463e-01, 4.9468267e-01,\n",
      "        1.4152344e-03, 9.3454838e-01, 5.6327635e-01, 4.5140418e-03]],\n",
      "      dtype=float32), array([[9.9999452e-01, 4.1535580e-01, 1.4071688e-01, 8.9880741e-01,\n",
      "        8.5906392e-01, 6.2023493e-04, 9.4780996e-03, 7.0714479e-04]],\n",
      "      dtype=float32), array([[9.9999988e-01, 9.9400721e-02, 9.3947321e-01, 9.4616570e-04,\n",
      "        1.3122222e-02, 1.0223767e-02, 9.0816545e-01, 1.8767855e-04]],\n",
      "      dtype=float32), array([[1.0000000e+00, 6.8897852e-03, 9.9381679e-01, 8.9503032e-01,\n",
      "        6.5466389e-05, 1.8226023e-01, 9.4749620e-03, 6.9844587e-05]],\n",
      "      dtype=float32), array([[9.9999130e-01, 6.5527034e-05, 9.9820232e-01, 9.0019351e-01,\n",
      "        4.0436061e-03, 6.1561568e-03, 7.4269146e-01, 1.7624659e-03]],\n",
      "      dtype=float32), array([[1.0000000e+00, 1.3908341e-04, 9.6911979e-01, 5.4550272e-01,\n",
      "        2.2764538e-05, 1.4197783e-01, 8.9535236e-01, 9.7963675e-05]],\n",
      "      dtype=float32), array([[1.0000000e+00, 7.6963096e-03, 3.8217258e-01, 3.8868558e-02,\n",
      "        6.6151330e-04, 7.2170013e-01, 8.8081777e-01, 9.0603641e-04]],\n",
      "      dtype=float32), array([[9.9998820e-01, 1.5497775e-02, 9.3299466e-01, 3.3863089e-03,\n",
      "        9.5072325e-04, 8.6974889e-01, 9.0110946e-01, 5.3118363e-02]],\n",
      "      dtype=float32), array([[9.9989092e-01, 9.8222810e-01, 7.5732166e-01, 6.7445302e-01,\n",
      "        3.3265469e-04, 4.7024339e-04, 7.5683540e-01, 1.5570808e-03]],\n",
      "      dtype=float32), array([[1.0000000e+00, 1.8425077e-02, 9.9837327e-01, 3.8225457e-02,\n",
      "        8.7990111e-06, 2.2250460e-03, 9.0837157e-01, 1.0679567e-03]],\n",
      "      dtype=float32), array([[0.99999917, 0.03841976, 0.55380625, 0.6539501 , 0.001758  ,\n",
      "        0.0068736 , 0.74250734, 0.00284947]], dtype=float32), array([[9.9997091e-01, 2.0331382e-07, 9.9772626e-01, 9.9265575e-01,\n",
      "        1.1105626e-05, 6.9855857e-01, 9.9849403e-01, 8.4512582e-04]],\n",
      "      dtype=float32), array([[9.9999762e-01, 8.9723850e-04, 8.2776904e-01, 1.5428363e-01,\n",
      "        2.1215626e-03, 1.7637484e-01, 9.2648375e-01, 1.1582562e-03]],\n",
      "      dtype=float32), array([[9.9997997e-01, 7.8349966e-01, 7.7840722e-01, 8.6678606e-01,\n",
      "        4.3035936e-01, 2.3284657e-03, 1.8014275e-02, 2.1133876e-04]],\n",
      "      dtype=float32), array([[9.9999988e-01, 9.0026442e-05, 9.9295384e-01, 8.9833230e-01,\n",
      "        4.5510763e-04, 6.5730801e-03, 1.4494048e-02, 1.1998869e-02]],\n",
      "      dtype=float32), array([[1.0000000e+00, 4.6720508e-02, 8.2412237e-01, 9.2817051e-03,\n",
      "        2.8094490e-05, 1.1492006e-01, 6.5059382e-01, 1.5473408e-05]],\n",
      "      dtype=float32), array([[9.9994826e-01, 7.0441538e-04, 7.6421654e-01, 7.9316145e-01,\n",
      "        9.4387609e-01, 1.5117279e-03, 1.4223021e-01, 3.6384733e-03]],\n",
      "      dtype=float32), array([[9.9999964e-01, 2.9882465e-03, 2.2848120e-01, 1.8445385e-01,\n",
      "        3.5868781e-03, 9.3507463e-01, 6.5500373e-01, 8.0146972e-04]],\n",
      "      dtype=float32), array([[9.9999809e-01, 2.2332934e-03, 1.4657648e-01, 7.3805648e-01,\n",
      "        6.4201766e-01, 2.4007820e-04, 5.8475852e-01, 1.4410210e-03]],\n",
      "      dtype=float32), array([[9.9999464e-01, 4.2595154e-01, 5.0465405e-01, 5.2561127e-03,\n",
      "        3.6856052e-01, 6.2551303e-04, 9.7937131e-01, 1.2260964e-03]],\n",
      "      dtype=float32), array([[9.9999940e-01, 3.1987348e-04, 9.7646910e-01, 5.8042055e-01,\n",
      "        1.7901362e-03, 3.8383286e-02, 1.5051678e-01, 2.7253553e-02]],\n",
      "      dtype=float32), array([[9.9999094e-01, 2.3734341e-04, 6.2226170e-01, 9.7047877e-01,\n",
      "        1.0040845e-02, 5.0531536e-01, 8.0719161e-01, 2.9665517e-04]],\n",
      "      dtype=float32), array([[0.99995816, 0.11193091, 0.721232  , 0.6232964 , 0.00187276,\n",
      "        0.33610743, 0.5420159 , 0.00777683]], dtype=float32), array([[1.0000000e+00, 3.8399475e-03, 9.8778683e-01, 1.6460918e-02,\n",
      "        1.3832067e-05, 2.8566690e-02, 9.8853803e-01, 2.2408329e-03]],\n",
      "      dtype=float32), array([[1.0000000e+00, 4.9651373e-04, 9.9918181e-01, 2.0870483e-02,\n",
      "        6.1415652e-05, 5.8809036e-01, 1.1310865e-01, 3.9634239e-03]],\n",
      "      dtype=float32), array([[9.9999499e-01, 3.4364103e-04, 2.4490559e-01, 9.3237096e-01,\n",
      "        4.3627843e-01, 5.7758138e-05, 7.1577889e-01, 5.0527509e-03]],\n",
      "      dtype=float32), array([[0.99976   , 0.9622136 , 0.23307529, 0.58979917, 0.01713024,\n",
      "        0.00149669, 0.88545805, 0.0016518 ]], dtype=float32), array([[9.9956709e-01, 9.7615767e-01, 3.0530140e-01, 2.6427163e-02,\n",
      "        9.7077000e-01, 2.3982788e-05, 7.4254340e-01, 2.0128714e-02]],\n",
      "      dtype=float32), array([[1.0000000e+00, 2.1277210e-01, 8.9783257e-01, 6.3772532e-03,\n",
      "        9.9772634e-04, 1.5419361e-02, 4.7523549e-01, 8.9844892e-04]],\n",
      "      dtype=float32), array([[9.9999762e-01, 3.8693748e-02, 9.9705195e-01, 2.5242287e-01,\n",
      "        1.1929143e-02, 4.0551717e-03, 1.1254403e-01, 1.1552121e-04]],\n",
      "      dtype=float32), array([[9.9999988e-01, 6.3038789e-02, 9.1741723e-01, 1.0791910e-02,\n",
      "        2.3308906e-03, 3.8412843e-02, 9.3156844e-01, 3.1687194e-04]],\n",
      "      dtype=float32), array([[9.9974746e-01, 2.2122056e-04, 1.8979833e-01, 4.5071992e-01,\n",
      "        3.3995591e-03, 9.6838498e-01, 9.9910575e-01, 9.2832826e-04]],\n",
      "      dtype=float32), array([[9.9999988e-01, 8.8479756e-06, 1.2355064e-01, 9.9296427e-01,\n",
      "        9.1811192e-01, 7.1019637e-03, 3.4835930e-03, 1.7288300e-04]],\n",
      "      dtype=float32), array([[9.9998021e-01, 5.0576138e-05, 9.9601811e-01, 1.7378507e-02,\n",
      "        3.6496214e-05, 1.0362547e-01, 9.9984372e-01, 7.3232781e-04]],\n",
      "      dtype=float32), array([[9.9999988e-01, 1.2192576e-01, 9.5968932e-01, 4.5431112e-03,\n",
      "        1.3769771e-03, 2.1862905e-02, 9.4119006e-01, 4.6241970e-04]],\n",
      "      dtype=float32), array([[1.0000000e+00, 2.3930987e-02, 9.9668115e-01, 1.5062134e-02,\n",
      "        9.8691889e-06, 2.1618613e-04, 9.1836292e-01, 1.0871236e-02]],\n",
      "      dtype=float32), array([[9.9999487e-01, 6.2191468e-03, 7.2645867e-01, 5.6853116e-01,\n",
      "        1.1629946e-02, 9.5790514e-04, 5.0146163e-01, 2.0749054e-03]],\n",
      "      dtype=float32), array([[1.0000000e+00, 8.9474758e-03, 9.9855214e-01, 1.2001044e-02,\n",
      "        1.4360465e-06, 8.8703476e-02, 9.2730808e-01, 2.4690516e-03]],\n",
      "      dtype=float32), array([[9.9996674e-01, 5.9330102e-02, 9.8125529e-01, 5.9439170e-01,\n",
      "        2.9067835e-04, 1.7741460e-01, 2.7443433e-01, 4.3288264e-02]],\n",
      "      dtype=float32), array([[9.9999917e-01, 5.0827074e-01, 9.9106103e-01, 3.1493321e-01,\n",
      "        1.2311742e-03, 1.6275467e-03, 2.0090558e-01, 2.0830650e-04]],\n",
      "      dtype=float32), array([[9.9999964e-01, 2.4344380e-01, 9.2306721e-01, 1.7075215e-02,\n",
      "        3.1256914e-02, 5.9322454e-04, 5.0654054e-01, 3.2103533e-04]],\n",
      "      dtype=float32), array([[9.9991536e-01, 6.0697144e-04, 1.8571794e-01, 3.7600997e-01,\n",
      "        3.1253032e-04, 8.4994459e-01, 9.9976522e-01, 4.1728973e-04]],\n",
      "      dtype=float32), array([[9.99989033e-01, 1.75550133e-01, 1.23965226e-01, 6.79340839e-01,\n",
      "        5.08365631e-01, 1.52872963e-04, 3.05577964e-01, 4.92591690e-03]],\n",
      "      dtype=float32), array([[9.9999559e-01, 8.3558398e-01, 3.7961343e-01, 2.1304430e-01,\n",
      "        2.5277278e-01, 8.1840379e-04, 1.6771385e-01, 7.7028404e-04]],\n",
      "      dtype=float32), array([[1.0000000e+00, 2.1376277e-04, 9.8222263e-02, 9.5651537e-01,\n",
      "        3.3899358e-01, 4.6192774e-01, 1.5753914e-02, 4.5540914e-05]],\n",
      "      dtype=float32), array([[0.9999919 , 0.33191502, 0.97906166, 0.0811933 , 0.02188403,\n",
      "        0.00427126, 0.2973315 , 0.00858579]], dtype=float32), array([[9.9999988e-01, 5.7519195e-05, 8.7161231e-01, 8.7720966e-01,\n",
      "        4.2386416e-01, 2.0162825e-02, 2.8519105e-02, 5.0117023e-04]],\n",
      "      dtype=float32), array([[9.9999821e-01, 2.3080889e-04, 2.0965677e-01, 8.7251091e-01,\n",
      "        8.4671307e-01, 4.5507919e-04, 3.4778073e-01, 6.1821501e-04]],\n",
      "      dtype=float32), array([[1.0000000e+00, 3.0716616e-03, 9.9236345e-01, 1.8928181e-02,\n",
      "        2.1852144e-05, 3.8069478e-01, 5.5439079e-01, 3.6733469e-04]],\n",
      "      dtype=float32), array([[9.9999917e-01, 4.5200875e-01, 6.5792531e-01, 1.5826713e-03,\n",
      "        3.1430360e-02, 9.8635316e-01, 3.1922843e-02, 2.1104941e-04]],\n",
      "      dtype=float32), array([[1.0000000e+00, 2.8464682e-03, 9.9870503e-01, 1.5905712e-02,\n",
      "        7.1368089e-07, 9.5556217e-04, 9.9312180e-01, 5.9765154e-03]],\n",
      "      dtype=float32), array([[9.99887347e-01, 1.37813855e-02, 1.17365330e-01, 6.67870998e-01,\n",
      "        9.69202995e-01, 3.93065275e-04, 3.09801191e-01, 1.79141480e-03]],\n",
      "      dtype=float32), array([[9.99999642e-01, 1.55815319e-03, 4.86005485e-01, 1.18721865e-01,\n",
      "        5.03902033e-04, 6.35718942e-01, 9.98079777e-01, 1.87111596e-04]],\n",
      "      dtype=float32), array([[9.9999905e-01, 8.6550519e-02, 4.1022038e-01, 9.5901227e-01,\n",
      "        3.1191653e-02, 3.3250329e-01, 1.0014819e-03, 1.3260650e-04]],\n",
      "      dtype=float32), array([[1.        , 0.054634  , 0.97156817, 0.00181459, 0.00148778,\n",
      "        0.10486329, 0.7471495 , 0.00267564]], dtype=float32), array([[9.9999964e-01, 1.2903418e-03, 5.0357336e-01, 7.6738995e-01,\n",
      "        3.6223878e-03, 4.0354386e-01, 9.2577690e-01, 7.1288028e-05]],\n",
      "      dtype=float32), array([[1.0000000e+00, 1.7777400e-03, 8.1566316e-01, 2.4039173e-01,\n",
      "        2.8236365e-04, 7.0833230e-01, 6.7513162e-01, 6.0634263e-04]],\n",
      "      dtype=float32)]\n"
     ]
    }
   ],
   "source": [
    "results = {\n",
    "    'BA': [],\n",
    "    'HA': [],\n",
    "    'MP': [],\n",
    "    'SE': [],\n",
    "    'SL': [],\n",
    "    'TP': [],\n",
    "    'TU': [],\n",
    "    'ZC': []\n",
    "}\n",
    "for classe, paths in files_per_class.items():\n",
    "    for path in paths:\n",
    "        image = cv2.imread(path)\n",
    "        image = np.expand_dims(image, axis=0)\n",
    "        prediction = model.predict(image)\n",
    "        results[classe].append(prediction)\n",
    "print(results['BA'])"
   ]
  },
  {
   "cell_type": "code",
   "execution_count": 127,
   "metadata": {},
   "outputs": [],
   "source": [
    "y_true = []\n",
    "for img, labels in validation:\n",
    "    for true in labels:\n",
    "        y_true.append(true)\n",
    "y_true = np.array(y_true)\n",
    "y_pred = model.predict(validation)"
   ]
  },
  {
   "cell_type": "code",
   "execution_count": 129,
   "metadata": {},
   "outputs": [
    {
     "data": {
      "text/plain": [
       "array([0., 0., 1., 0., 0., 0., 0., 0.], dtype=float32)"
      ]
     },
     "execution_count": 129,
     "metadata": {},
     "output_type": "execute_result"
    }
   ],
   "source": [
    "y_true[0]"
   ]
  },
  {
   "cell_type": "code",
   "execution_count": 130,
   "metadata": {},
   "outputs": [
    {
     "data": {
      "text/plain": [
       "array([4.2242830e-04, 2.2103931e-01, 9.6185926e-05, 9.9869746e-01,\n",
       "       1.0000000e+00, 3.5608134e-03, 1.1200934e-03, 1.1890319e-03],\n",
       "      dtype=float32)"
      ]
     },
     "execution_count": 130,
     "metadata": {},
     "output_type": "execute_result"
    }
   ],
   "source": [
    "y_pred[0]"
   ]
  },
  {
   "cell_type": "code",
   "execution_count": 122,
   "metadata": {},
   "outputs": [
    {
     "data": {
      "text/plain": [
       "0.142018779342723"
      ]
     },
     "execution_count": 122,
     "metadata": {},
     "output_type": "execute_result"
    }
   ],
   "source": [
    "from sklearn.metrics import accuracy_score\n",
    "\n",
    "accuracy_score(y_true, y_pred)"
   ]
  },
  {
   "cell_type": "code",
   "execution_count": null,
   "metadata": {},
   "outputs": [],
   "source": []
  }
 ],
 "metadata": {
  "interpreter": {
   "hash": "1eece517c60277595a82c94af4a20e4cf42b8015e0d414d338400559bb6ab6a4"
  },
  "kernelspec": {
   "display_name": "Python 3.10.0 ('tf')",
   "language": "python",
   "name": "python3"
  },
  "language_info": {
   "codemirror_mode": {
    "name": "ipython",
    "version": 3
   },
   "file_extension": ".py",
   "mimetype": "text/x-python",
   "name": "python",
   "nbconvert_exporter": "python",
   "pygments_lexer": "ipython3",
   "version": "3.10.0"
  },
  "orig_nbformat": 4
 },
 "nbformat": 4,
 "nbformat_minor": 2
}
